{
 "cells": [
  {
   "cell_type": "code",
   "execution_count": 1,
   "id": "7ad73fc1",
   "metadata": {},
   "outputs": [
    {
     "name": "stdout",
     "output_type": "stream",
     "text": [
      "Enter the amount of dollars you would like to exchange:200\n",
      "Buy Rate: 1210.0\n",
      "Sell Rate: 1235.0\n",
      "You will receive this many pesos: 242000.0\n"
     ]
    }
   ],
   "source": [
    "import requests\n",
    "from bs4 import BeautifulSoup\n",
    "\n",
    "Dollars = float(input(\"Enter the amount of dollars you would like to exchange:\"))\n",
    "\n",
    "# URL of the page to scrape\n",
    "url = \"https://bluedollar.net/informal-rate/\"\n",
    "\n",
    "# Send a GET request to the website\n",
    "response = requests.get(url)\n",
    "\n",
    "# Check if the request was successful\n",
    "if response.status_code == 200:\n",
    "    # Parse the HTML content using BeautifulSoup\n",
    "    soup = BeautifulSoup(response.content, 'html.parser')\n",
    "\n",
    "    # Find the buy and sell rates\n",
    "    buy_rate_element = soup.find('div', class_='buy buy-sell-blue')\n",
    "    sell_rate_element = soup.find('div', class_='sell buy-sell-blue')\n",
    "\n",
    "    # Extract the text from the elements\n",
    "    if buy_rate_element and sell_rate_element:\n",
    "        # Extract and clean the buy rate text\n",
    "        buy_rate_str = buy_rate_element.get_text(strip=True).replace(\"Buy\", \"\").strip()\n",
    "        # Extract and clean the sell rate text\n",
    "        sell_rate_str = sell_rate_element.get_text(strip=True).replace(\"Sell\", \"\").strip()\n",
    "\n",
    "        # Convert the cleaned text to float numbers\n",
    "        buy_rate = float(buy_rate_str.replace(\",\", \"\"))\n",
    "        sell_rate = float(sell_rate_str.replace(\",\", \"\"))\n",
    "\n",
    "        # Print the extracted rates\n",
    "        print(\"Buy Rate:\", buy_rate)\n",
    "        print(\"Sell Rate:\", sell_rate)\n",
    "    else:\n",
    "        print(\"Failed to find the buy or sell rate elements.\")\n",
    "else:\n",
    "    print(f\"Failed to retrieve the page. Status code: {response.status_code}\")\n",
    "    \n",
    "PesosReceived = Dollars * buy_rate\n",
    "print(f\"You will receive this many pesos: {PesosReceived}\")\n",
    "\n",
    "\n"
   ]
  },
  {
   "cell_type": "code",
   "execution_count": null,
   "id": "71451186",
   "metadata": {},
   "outputs": [],
   "source": []
  }
 ],
 "metadata": {
  "kernelspec": {
   "display_name": "Python 3 (ipykernel)",
   "language": "python",
   "name": "python3"
  },
  "language_info": {
   "codemirror_mode": {
    "name": "ipython",
    "version": 3
   },
   "file_extension": ".py",
   "mimetype": "text/x-python",
   "name": "python",
   "nbconvert_exporter": "python",
   "pygments_lexer": "ipython3",
   "version": "3.9.12"
  }
 },
 "nbformat": 4,
 "nbformat_minor": 5
}
